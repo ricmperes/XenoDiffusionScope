{
 "cells": [
  {
   "cell_type": "markdown",
   "id": "1dbe8b63-eab6-4eff-8195-7252a63bc933",
   "metadata": {},
   "source": [
    "# Train a regression model to determine the D\n",
    "> Ricardo Peres, Nov 2022\n",
    "\n",
    "Now that we are able to get some lovely patterns, comes the time to make some use out of them. The main objective is, given a pattern, know which diffusion constant it relates to. To accomplish this objective the following project will be followed:\n",
    "  1. Define a class for the training and testing datasets:\n",
    "     * Paths + directory structure\n",
    "     * Define fixed parameters\n",
    "     * Define variable parameters\n",
    "     * Call for the simulation of training data, keeping record\n",
    "  1. Define the suitable regression technique framework\n",
    "  1. Load the training data and run the modelling\n",
    "  1. Test with more generated hitpatterns"
   ]
  },
  {
   "cell_type": "code",
   "execution_count": 9,
   "id": "a90986a0-7ed2-4c30-bb55-f46299379b04",
   "metadata": {},
   "outputs": [],
   "source": [
    "import os"
   ]
  },
  {
   "cell_type": "code",
   "execution_count": 12,
   "id": "5b86ab7c-fdb2-4a56-8c09-574634ece1e8",
   "metadata": {},
   "outputs": [
    {
     "data": {
      "text/plain": [
       "True"
      ]
     },
     "execution_count": 12,
     "metadata": {},
     "output_type": "execute_result"
    }
   ],
   "source": [
    "os.path.exists('/dali/lgrandi/peres/S2WidthCutLow.pkl')"
   ]
  },
  {
   "cell_type": "code",
   "execution_count": 17,
   "id": "86bfe7d6-a3fe-40ac-94c6-6da3b0d49a24",
   "metadata": {},
   "outputs": [],
   "source": [
    "main_sim_path = 'boop'\n",
    "top_array_model = 'beep'\n",
    "drift_field = [1,2,3]\n",
    "diffusions_t = ['a','b','c']"
   ]
  },
  {
   "cell_type": "code",
   "execution_count": 19,
   "id": "4cbeb510-8d50-4595-8343-416f5e680aba",
   "metadata": {},
   "outputs": [],
   "source": [
    "sim_paths = [os.path.join(main_sim_path,\n",
    "                          top_array_model,\n",
    "                          str(_drift_field),\n",
    "                          str(_diff_t_const))\n",
    "            for _drift_field in drift_field \n",
    "            for _diff_t_const in diffusions_t]"
   ]
  },
  {
   "cell_type": "code",
   "execution_count": null,
   "id": "a5ca904e-46ce-4fbb-912b-460f344db507",
   "metadata": {},
   "outputs": [],
   "source": [
    "0.0053952442"
   ]
  },
  {
   "cell_type": "code",
   "execution_count": 86,
   "id": "1f533509-2592-4946-abdf-0d4ce6d11c7c",
   "metadata": {},
   "outputs": [
    {
     "data": {
      "text/plain": [
       "0.005395"
      ]
     },
     "execution_count": 86,
     "metadata": {},
     "output_type": "execute_result"
    }
   ],
   "source": [
    "5.395/1000"
   ]
  },
  {
   "cell_type": "code",
   "execution_count": 121,
   "id": "fb6e7548-41bc-41ce-87a6-2cb319d4cb54",
   "metadata": {},
   "outputs": [],
   "source": [
    "sim = sim_dataset(main_sim_path = '/dali/lgrandi/peres/xenoscope/diffusion/training_sims', \n",
    "                 drift_fields = [200], \n",
    "                 diffusion_constants = [5.395],\n",
    "                 top_array_model = 'quads',\n",
    "                 config_key = 'main_config.json')"
   ]
  },
  {
   "cell_type": "code",
   "execution_count": 108,
   "id": "64ee2a14-46e7-47b8-a7b5-e0bb784c67d9",
   "metadata": {},
   "outputs": [],
   "source": [
    "sim.make_dirs(sim.sim_paths)\n",
    "sim.make_dirs(sim.log_paths)"
   ]
  },
  {
   "cell_type": "code",
   "execution_count": 124,
   "id": "9c56145d-6337-41a0-a7ed-06706c58e991",
   "metadata": {},
   "outputs": [
    {
     "name": "stdout",
     "output_type": "stream",
     "text": [
      "CPU times: user 8 µs, sys: 0 ns, total: 8 µs\n",
      "Wall time: 15.7 µs\n",
      "TPC created.\n"
     ]
    },
    {
     "name": "stderr",
     "output_type": "stream",
     "text": [
      "WARNING: Only the long. diffusino value for 100 V/cm is implemented, going with it for now.\n",
      "WARNING: Starting drifting process with dt=1.00 us. Light-speed!\n",
      "WARNING: An electron reached half-way there in 839 us.\n",
      "WARNING: All electrons have drifted to the gate after 1698 us.\n",
      "Counting hits in hex centers: 100%|██████████| 3808/3808 [00:00<00:00, 6264.69it/s]\n",
      "Summing all normalized patterns. 1+1+2+3+5+8+...: 100%|██████████| 3808/3808 [00:17<00:00, 219.35it/s]\n"
     ]
    }
   ],
   "source": [
    "results_0 = sim.run_simulation(sim.drift_fields[0], sim.transv_diffusion_constants[0])"
   ]
  },
  {
   "cell_type": "code",
   "execution_count": 123,
   "id": "61087a27-c850-454c-bb8d-ea4e68b75acf",
   "metadata": {},
   "outputs": [
    {
     "data": {
      "text/plain": [
       "array([1.01387587e+05, 1.30466331e+04, 1.12373022e+04, 1.11063186e+04,\n",
       "       1.18039992e+04, 9.67788865e+04, 1.33079116e+04, 3.28604638e+03,\n",
       "       2.36768475e+03, 2.35330669e+03, 2.97347681e+03, 1.34911803e+04,\n",
       "       1.06583383e+04, 2.21872223e+03, 1.73753495e+03, 1.92097982e+03,\n",
       "       2.06216583e+03, 1.14907648e+04, 1.13677596e+04, 2.22846943e+03,\n",
       "       1.92514995e+03, 1.75458305e+03, 1.95578539e+03, 1.11442476e+04,\n",
       "       1.33078462e+04, 3.14141902e+03, 2.33956737e+03, 2.11526585e+03,\n",
       "       2.87185031e+03, 1.24835943e+04, 9.85488938e+04, 1.33160499e+04,\n",
       "       1.10600143e+04, 1.16135232e+04, 1.28211623e+04, 9.80961172e+04,\n",
       "       8.24416390e+02, 8.05500836e+02, 1.11076622e+03, 1.08436795e+03,\n",
       "       8.73054987e+02, 8.68849941e+02, 9.52201893e+02, 9.58361466e+02,\n",
       "       2.18923913e+01, 2.33666437e+01, 9.06392147e+00, 9.22867786e+00])"
      ]
     },
     "execution_count": 123,
     "metadata": {},
     "output_type": "execute_result"
    }
   ],
   "source": [
    "results_0"
   ]
  }
 ],
 "metadata": {
  "kernelspec": {
   "display_name": "Python [conda env:XENONnT_development] *",
   "language": "python",
   "name": "conda-env-XENONnT_development-py"
  },
  "language_info": {
   "codemirror_mode": {
    "name": "ipython",
    "version": 3
   },
   "file_extension": ".py",
   "mimetype": "text/x-python",
   "name": "python",
   "nbconvert_exporter": "python",
   "pygments_lexer": "ipython3",
   "version": "3.8.13"
  }
 },
 "nbformat": 4,
 "nbformat_minor": 5
}
