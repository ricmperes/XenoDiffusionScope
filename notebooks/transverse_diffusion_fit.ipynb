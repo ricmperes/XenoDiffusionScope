{
 "cells": [
  {
   "cell_type": "markdown",
   "id": "9f5434bc-714e-4603-baad-8d2bc9d0fc9d",
   "metadata": {},
   "source": [
    "# Naive fit of the transverse diffusion data  from EXO 200 to interpolate\n",
    "\n",
    "> Ricardo Peres, 06.05.2020\n",
    "\n",
    "Based on data from  [Measurement of the drift velocity and transverse diffusion of electrons in liquid xenon with the EXO-200 detector (2017)](https://doi.org/10.1103/PhysRevC.95.025502)."
   ]
  },
  {
   "cell_type": "markdown",
   "id": "a05f81de-7e21-4bfe-8a75-7ef343a6a02b",
   "metadata": {},
   "source": [
    "#### Imports"
   ]
  },
  {
   "cell_type": "code",
   "execution_count": 2,
   "id": "0234f29f-bfa2-4809-b125-cdce734c2f33",
   "metadata": {},
   "outputs": [],
   "source": [
    "import numpy as np\n",
    "import matplotlib.pyplot as plt\n",
    "import scipy.stats\n",
    "from scipy.optimize import curve_fit"
   ]
  },
  {
   "cell_type": "code",
   "execution_count": 3,
   "id": "0d2e3fc4-877e-4fe1-8e16-eaeb41b4ca91",
   "metadata": {},
   "outputs": [],
   "source": [
    "def func_lin(x,a,b):\n",
    "    return a*x+b"
   ]
  },
  {
   "cell_type": "markdown",
   "id": "92b03b16-8916-4d95-b97f-bbc8eca417a6",
   "metadata": {},
   "source": [
    "#### Digitized data"
   ]
  },
  {
   "cell_type": "code",
   "execution_count": 4,
   "id": "c5a4f88a-2857-401e-bbca-93f786a3100e",
   "metadata": {},
   "outputs": [],
   "source": [
    "field = np.array([9.970242696779245,21.174006187374857,47.25304314138346,137.98876772710062,315.54038976756215,561.9694826531345])\n",
    "Diff_trans = np.array([48.40664608852609,56.46406460835195,54.15330464410083,55.97209183558513,55.26172040265065,60.50308797280282])\n",
    "Diff_trans_error_up_data = np.array([71.96416099015404,73.04834360988653,65.83798344235743,66.90263935932389,59.87833362122706,69.45482947931299])\n",
    "Diff_trans_error_down_data = np.array([24.849431597709852,39.69132789089085,42.6576843833943,45.230002027773,50.36212019937268,51.45711760832944])\n",
    "Diff_trans_error_up = Diff_trans_error_up_data-Diff_trans\n",
    "Diff_trans_error_down = Diff_trans - Diff_trans_error_down_data"
   ]
  },
  {
   "cell_type": "markdown",
   "id": "52c6c9fb-47b4-427a-ab64-93e0364cec39",
   "metadata": {},
   "source": [
    "#### Linear fit"
   ]
  },
  {
   "cell_type": "code",
   "execution_count": 5,
   "id": "38cc1575-e4fb-40ea-b88b-b16f80c9da96",
   "metadata": {},
   "outputs": [],
   "source": [
    "(m,b), pcov = curve_fit(func_lin, field, Diff_trans, sigma = (Diff_trans_error_down+Diff_trans_error_up))\n",
    "m_err, b_err = np.sqrt(np.diag(pcov))\n",
    "\n",
    "linfit_result = scipy.stats.linregress(field,Diff_trans)\n",
    "m_linregress = linfit_result.slope\n",
    "m_linregress_error = linfit_result.stderr\n",
    "b_linregress = linfit_result.intercept\n",
    "b_linregress_error = linfit_result.intercept_stderr\n",
    "r_linregress = linfit_result.rvalue"
   ]
  },
  {
   "cell_type": "code",
   "execution_count": 12,
   "id": "cdf90df8-6f6c-40f4-8e2b-e25cd425f96e",
   "metadata": {},
   "outputs": [
    {
     "data": {
      "image/png": "[encoded data removed]",
      "text/plain": [
       "<Figure size 720x432 with 1 Axes>"
      ]
     },
     "metadata": {
      "needs_background": "light"
     },
     "output_type": "display_data"
    }
   ],
   "source": [
    "plt.figure(figsize=(10,6))\n",
    "plt.errorbar(field, Diff_trans, (Diff_trans_error_down, Diff_trans_error_up), ls = '', marker = 'o', c = 'r') \n",
    "_x = np.linspace(0,600, 400)\n",
    "plt.plot(_x, func_lin(_x, m,b), color = 'k',ls = '-', label = 'Curve fit (w/ errors)')\n",
    "plt.plot(_x, func_lin(_x, m_linregress,b_linregress), color = 'b',ls = '-', label = 'Lin regress (w/o errors)')\n",
    "plt.legend()\n",
    "plt.xscale('log')\n",
    "plt.ylabel('Transverse diffusion [cm$^2$/s]')\n",
    "plt.xlabel('Drift field [V/cm]')\n",
    "plt.show()"
   ]
  },
  {
   "cell_type": "code",
   "execution_count": 14,
   "id": "1b27423a-80be-47aa-8660-11c44df85c43",
   "metadata": {},
   "outputs": [
    {
     "name": "stdout",
     "output_type": "stream",
     "text": [
      "Curve fit: m=0.010635; b=52.888942\n",
      "Linregress: m=0.013021; b=52.752949\n"
     ]
    }
   ],
   "source": [
    "print('Curve fit: m=%f; b=%f' %(m,b))\n",
    "print('Linregress: m=%f; b=%f' %(m_linregress,b_linregress))"
   ]
  },
  {
   "cell_type": "code",
   "execution_count": null,
   "id": "5ed9604b-b32b-4ade-86d9-f944eb629ec2",
   "metadata": {},
   "outputs": [],
   "source": []
  }
 ],
 "metadata": {
  "kernelspec": {
   "display_name": "Python [conda env:XENONnT_development] *",
   "language": "python",
   "name": "conda-env-XENONnT_development-py"
  },
  "language_info": {
   "codemirror_mode": {
    "name": "ipython",
    "version": 3
   },
   "file_extension": ".py",
   "mimetype": "text/x-python",
   "name": "python",
   "nbconvert_exporter": "python",
   "pygments_lexer": "ipython3",
   "version": "3.8.13"
  }
 },
 "nbformat": 4,
 "nbformat_minor": 5
}
